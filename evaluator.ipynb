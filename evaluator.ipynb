{
 "cells": [
  {
   "cell_type": "code",
   "execution_count": 1,
   "metadata": {},
   "outputs": [],
   "source": [
    "import torch\n",
    "from resnet import validate, ResNet, get_data_loader\n",
    "from sklearn.metrics import classification_report, confusion_matrix, precision_recall_curve, average_precision_score, precision_recall_fscore_support\n",
    "from matplotlib import pyplot as plt\n",
    "import numpy as np\n",
    "import seaborn as sns"
   ]
  },
  {
   "cell_type": "code",
   "execution_count": 2,
   "metadata": {},
   "outputs": [],
   "source": [
    "day_data_path = '/data/work_amimukh/Journal_IEEE/BDD_Images/TestDay'\n",
    "night_data_path = '/data/work_amimukh/Journal_IEEE/BDD_Images/TestNight'"
   ]
  },
  {
   "cell_type": "code",
   "execution_count": 3,
   "metadata": {},
   "outputs": [],
   "source": [
    "res_model = ResNet()"
   ]
  },
  {
   "cell_type": "code",
   "execution_count": 21,
   "metadata": {},
   "outputs": [],
   "source": [
    "res_model.load_model('/data/work_amimukh/Journal_IEEE/mobilenet_model_day_syn_night/run_000/resmodel.pth') #DAY\n",
    "#res_model.load_model('/data/work_amimukh/Journal_IEEE/resnet_50_model_day_night/run_000/resmodel.pth') #DAYNIGHT\n",
    "#res_model.load_model('/data/work_amimukh/Journal_IEEE/resnet_50_model_day_syn_night/run_000/resmodel.pth') #DAYSYNTHNIGHT"
   ]
  },
  {
   "cell_type": "code",
   "execution_count": 22,
   "metadata": {},
   "outputs": [],
   "source": [
    "dl_day = get_data_loader(day_data_path, mode='test', batch_size=64)\n",
    "dl_night = get_data_loader(night_data_path, mode='test', batch_size=64)"
   ]
  },
  {
   "cell_type": "code",
   "execution_count": 23,
   "metadata": {},
   "outputs": [],
   "source": [
    "device = torch.device('cuda' if torch.cuda.is_available() else 'cpu')"
   ]
  },
  {
   "cell_type": "code",
   "execution_count": 24,
   "metadata": {},
   "outputs": [
    {
     "name": "stdout",
     "output_type": "stream",
     "text": [
      "cars, 0.8595209094600081, 0.8176902278872151, 0.8380839271575614\n",
      "person, 0.5349555813055233, 0.8404126213592233, 0.6537644559830068\n",
      "trafficlight, 0.3804573804573805, 0.5954446854663774, 0.4642706131078224\n",
      "trafficsign, 0.770637268082818, 0.6127859739149027, 0.6827060505002382\n"
     ]
    },
    {
     "data": {
      "text/plain": [
       "<Figure size 720x720 with 0 Axes>"
      ]
     },
     "metadata": {},
     "output_type": "display_data"
    }
   ],
   "source": [
    "day_res = []\n",
    "labels = []\n",
    "res_model = res_model.to(device)\n",
    "for img, label in dl_day:\n",
    "    img = img.to(device)\n",
    "    label = label.to(device)\n",
    "    preds = res_model(img)\n",
    "    day_res.append(preds.cpu().detach().numpy())\n",
    "    labels.append(label.cpu().detach().numpy())\n",
    "labels_ = np.hstack(labels)\n",
    "day_res_ = np.vstack(day_res)\n",
    "cl_map = dl_day.dataset.class_to_idx\n",
    "pr_day = {i:[] for i in cl_map.keys()}\n",
    "re_day = {i:[] for i in cl_map.keys()}\n",
    "plt.figure(figsize=(10, 10))\n",
    "for label in cl_map.keys():\n",
    "    label_idx = cl_map[label]\n",
    "    pr_day[label], re_day[label], _ = precision_recall_curve(labels_, day_res_[:,label_idx], pos_label = label_idx)\n",
    "    #plt.plot(re[label], pr[label], lw=2, label='{}'.format(label))#age_precision_score(labels_, day_res_[:,label_idx], average='micro', pos_label=label_idx)))\n",
    "    #rec, rec, f = precision_recall_fscore_support(labels_, day_res_[:,label_idx], pos_label=label_idx)\n",
    "    #rint(label)\n",
    "   #print('cision:{}, recall:{}, f:{}'.format(prec, rec, f))\n",
    "#plt.legend()\n",
    "prec, rec, f, _ = precision_recall_fscore_support(labels_, np.argmax(day_res_, axis=1), average=None)\n",
    "for idx, l in enumerate(cl_map.keys()):\n",
    "    print('{}, {}, {}, {}'.format(l, prec[idx], rec[idx], f[idx]))"
   ]
  },
  {
   "cell_type": "code",
   "execution_count": 25,
   "metadata": {},
   "outputs": [
    {
     "name": "stdout",
     "output_type": "stream",
     "text": [
      "cars, 0.8405819063494469, 0.7401921537229784, 0.7871993188107571\n",
      "person, 0.35235378031383735, 0.7682737169517885, 0.48312958435207826\n",
      "trafficlight, 0.3054662379421222, 0.46454767726161367, 0.3685741998060136\n",
      "trafficsign, 0.674492385786802, 0.6176641487507263, 0.6448286320897786\n"
     ]
    },
    {
     "data": {
      "text/plain": [
       "<Figure size 720x720 with 0 Axes>"
      ]
     },
     "metadata": {},
     "output_type": "display_data"
    }
   ],
   "source": [
    "cl_map = dl_night.dataset.class_to_idx\n",
    "night_res = []\n",
    "labels = []\n",
    "res_model = res_model.to(device)\n",
    "for img, label in dl_night:\n",
    "    img = img.to(device)\n",
    "    label = label.to(device)\n",
    "    preds = res_model(img)\n",
    "    night_res.append(preds.cpu().detach().numpy())\n",
    "    labels.append(label.cpu().detach().numpy())\n",
    "labels_ = np.hstack(labels)\n",
    "night_res_ = np.vstack(night_res)\n",
    "pr_night = {i:[] for i in cl_map.keys()}\n",
    "re_night = {i:[] for i in cl_map.keys()}\n",
    "plt.figure(figsize=(10, 10))\n",
    "for label in cl_map.keys():\n",
    "    label_idx = cl_map[label]\n",
    "    pr_night[label], re_night[label], _ = precision_recall_curve(labels_, night_res_[:,label_idx], pos_label = label_idx)\n",
    "    #plt.plot(re[label], pr[label], lw=2, label='{}'.format(label))#age_precision_score(labels_, day_res_[:,label_idx], average='micro', pos_label=label_idx)))\n",
    "    #rec, rec, f = precision_recall_fscore_support(labels_, day_res_[:,label_idx], pos_label=label_idx)\n",
    "    #rint(label)\n",
    "   #print('cision:{}, recall:{}, f:{}'.format(prec, rec, f))\n",
    "#plt.legend()\n",
    "prec, rec, f, _ = precision_recall_fscore_support(labels_, np.argmax(night_res_, axis=1), average=None)\n",
    "for idx, l in enumerate(cl_map.keys()):\n",
    "    print('{}, {}, {}, {}'.format(l, prec[idx], rec[idx], f[idx]))"
   ]
  },
  {
   "cell_type": "code",
   "execution_count": 26,
   "metadata": {},
   "outputs": [
    {
     "data": {
      "text/plain": [
       "(327.5181292475463, 0.8831449184798046)"
      ]
     },
     "execution_count": 26,
     "metadata": {},
     "output_type": "execute_result"
    }
   ],
   "source": [
    "res_model = res_model.to(device)\n",
    "loss_fn = torch.nn.CrossEntropyLoss()\n",
    "validate(res_model, device, dl_day, loss_fn)"
   ]
  },
  {
   "cell_type": "code",
   "execution_count": 27,
   "metadata": {},
   "outputs": [
    {
     "data": {
      "text/plain": [
       "(244.73414935923938, 0.8715818343147536)"
      ]
     },
     "execution_count": 27,
     "metadata": {},
     "output_type": "execute_result"
    }
   ],
   "source": [
    "validate(res_model, device, dl_night, loss_fn)"
   ]
  },
  {
   "cell_type": "code",
   "execution_count": 28,
   "metadata": {},
   "outputs": [],
   "source": [
    "def validate_non_equal(model, device, ds_loader, criterion, reqlabel):\n",
    "    model.eval()\n",
    "    corrects = 0\n",
    "    val_loss = 0.0\n",
    "    with torch.no_grad():\n",
    "        for inputs, labels in ds_loader:\n",
    "            inputs, label = inputs.to(device), labels.to(device)\n",
    "            output = model(inputs)\n",
    "            pred = output.max(1, keepdim=True)[1]\n",
    "            if pred != label and reqlabel == label:\n",
    "                return inputs\n",
    "                \n",
    "            #val_loss += criterion(output, label).item()\n",
    "            #preds = output.max(1, keepdim=True)[1]\n",
    "            #corrects += preds.eq(label.view_as(preds)).sum().item()\n",
    "        acc = corrects / float(len(ds_loader.dataset))\n",
    "    return val_loss, acc"
   ]
  },
  {
   "cell_type": "code",
   "execution_count": 21,
   "metadata": {},
   "outputs": [],
   "source": [
    "ig = validate_non_equal(res_model, device, dl_night, loss_fn, 0)"
   ]
  },
  {
   "cell_type": "code",
   "execution_count": 23,
   "metadata": {},
   "outputs": [],
   "source": [
    "ig2 = ig.cpu().detach().numpy().transpose(2,3,1,0)[...,0]"
   ]
  },
  {
   "cell_type": "code",
   "execution_count": 28,
   "metadata": {},
   "outputs": [
    {
     "data": {
      "text/plain": [
       "<matplotlib.image.AxesImage at 0x7f65a8d30240>"
      ]
     },
     "execution_count": 28,
     "metadata": {},
     "output_type": "execute_result"
    },
    {
     "data": {
      "image/png": "[encoded data removed]",
      "text/plain": [
       "<Figure size 432x288 with 1 Axes>"
      ]
     },
     "metadata": {
      "needs_background": "light"
     },
     "output_type": "display_data"
    }
   ],
   "source": [
    "plt.imshow((ig2 -ig2.min()) / ig2.ptp())"
   ]
  },
  {
   "cell_type": "code",
   "execution_count": null,
   "metadata": {},
   "outputs": [],
   "source": []
  },
  {
   "cell_type": "code",
   "execution_count": null,
   "metadata": {},
   "outputs": [],
   "source": []
  }
 ],
 "metadata": {
  "kernelspec": {
   "display_name": "Python 3",
   "language": "python",
   "name": "python3"
  },
  "language_info": {
   "codemirror_mode": {
    "name": "ipython",
    "version": 3
   },
   "file_extension": ".py",
   "mimetype": "text/x-python",
   "name": "python",
   "nbconvert_exporter": "python",
   "pygments_lexer": "ipython3",
   "version": "3.6.8"
  }
 },
 "nbformat": 4,
 "nbformat_minor": 4
}
