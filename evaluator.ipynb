{
 "cells": [
  {
   "cell_type": "code",
   "execution_count": 2,
   "metadata": {},
   "outputs": [],
   "source": [
    "import torch\n",
    "from resnet import validate, ResNet, get_data_loader\n",
    "from sklearn.metrics import classification_report, confusion_matrix, precision_recall_curve, average_precision_score, precision_recall_fscore_support\n",
    "from matplotlib import pyplot as plt\n",
    "import numpy as np"
   ]
  },
  {
   "cell_type": "code",
   "execution_count": 3,
   "metadata": {},
   "outputs": [],
   "source": [
    "day_data_path = '/data/work_amimukh/Journal_IEEE/BDD_Images/TestDay'\n",
    "night_data_path = '/data/work_amimukh/Journal_IEEE/BDD_Images/TestNight'"
   ]
  },
  {
   "cell_type": "code",
   "execution_count": 4,
   "metadata": {},
   "outputs": [],
   "source": [
    "res_model = ResNet()"
   ]
  },
  {
   "cell_type": "code",
   "execution_count": 34,
   "metadata": {},
   "outputs": [],
   "source": [
    "#res_model.load_model('models/run_000/resmodel.pth')\n",
    "res_model.load_model('model_day_night/run_002/resmodel.pth')"
   ]
  },
  {
   "cell_type": "code",
   "execution_count": 35,
   "metadata": {},
   "outputs": [],
   "source": [
    "dl_day = get_data_loader(day_data_path, mode='test', batch_size=64)\n",
    "dl_night = get_data_loader(night_data_path, mode='test', batch_size=64)"
   ]
  },
  {
   "cell_type": "code",
   "execution_count": 36,
   "metadata": {},
   "outputs": [],
   "source": [
    "device = torch.device('cuda' if torch.cuda.is_available() else 'cpu')"
   ]
  },
  {
   "cell_type": "code",
   "execution_count": 37,
   "metadata": {},
   "outputs": [
    {
     "name": "stdout",
     "output_type": "stream",
     "text": [
      "cars, 0.9656460819927348, 0.8984163769795288, 0.9308188684908208\n",
      "person, 0.6563032367972743, 0.9350728155339806, 0.7712712712712713\n",
      "trafficlight, 0.5767605633802817, 0.8882863340563991, 0.699402220324509\n",
      "trafficsign, 0.9038095238095238, 0.8116313876416507, 0.8552438887011378\n"
     ]
    },
    {
     "data": {
      "text/plain": [
       "<Figure size 720x720 with 0 Axes>"
      ]
     },
     "metadata": {},
     "output_type": "display_data"
    }
   ],
   "source": [
    "day_res = []\n",
    "labels = []\n",
    "res_model = res_model.to(device)\n",
    "for img, label in dl_day:\n",
    "    img = img.to(device)\n",
    "    label = label.to(device)\n",
    "    preds = res_model(img)\n",
    "    day_res.append(preds.cpu().detach().numpy())\n",
    "    labels.append(label.cpu().detach().numpy())\n",
    "labels_ = np.hstack(labels)\n",
    "day_res_ = np.vstack(day_res)\n",
    "cl_map = dl_day.dataset.class_to_idx\n",
    "pr = {i:[] for i in cl_map.keys()}\n",
    "re = {i:[] for i in cl_map.keys()}\n",
    "plt.figure(figsize=(10, 10))\n",
    "for label in cl_map.keys():\n",
    "    label_idx = cl_map[label]\n",
    "    pr[label], re[label], _ = precision_recall_curve(labels_, day_res_[:,label_idx], pos_label = label_idx)\n",
    "    #plt.plot(re[label], pr[label], lw=2, label='{}'.format(label))#age_precision_score(labels_, day_res_[:,label_idx], average='micro', pos_label=label_idx)))\n",
    "    #rec, rec, f = precision_recall_fscore_support(labels_, day_res_[:,label_idx], pos_label=label_idx)\n",
    "    #rint(label)\n",
    "   #print('cision:{}, recall:{}, f:{}'.format(prec, rec, f))\n",
    "#plt.legend()\n",
    "prec, rec, f, _ = precision_recall_fscore_support(labels_, np.argmax(day_res_, axis=1), average=None)\n",
    "for idx, l in enumerate(cl_map.keys()):\n",
    "    print('{}, {}, {}, {}'.format(l, prec[idx], rec[idx], f[idx]))"
   ]
  },
  {
   "cell_type": "code",
   "execution_count": 38,
   "metadata": {},
   "outputs": [
    {
     "name": "stdout",
     "output_type": "stream",
     "text": [
      "cars, 0.9613691237040193, 0.9032559380838003, 0.9314069487444101\n",
      "person, 0.5296296296296297, 0.8895800933125972, 0.6639582124201974\n",
      "trafficlight, 0.5736625514403292, 0.8520782396088019, 0.6856861780619774\n",
      "trafficsign, 0.9157138190133943, 0.8143521208599651, 0.862063662924804\n"
     ]
    },
    {
     "data": {
      "text/plain": [
       "<Figure size 720x720 with 0 Axes>"
      ]
     },
     "metadata": {},
     "output_type": "display_data"
    }
   ],
   "source": [
    "cl_map = dl_night.dataset.class_to_idx\n",
    "night_res = []\n",
    "labels = []\n",
    "res_model = res_model.to(device)\n",
    "for img, label in dl_night:\n",
    "    img = img.to(device)\n",
    "    label = label.to(device)\n",
    "    preds = res_model(img)\n",
    "    night_res.append(preds.cpu().detach().numpy())\n",
    "    labels.append(label.cpu().detach().numpy())\n",
    "labels_ = np.hstack(labels)\n",
    "night_res_ = np.vstack(night_res)\n",
    "pr = {i:[] for i in cl_map.keys()}\n",
    "re = {i:[] for i in cl_map.keys()}\n",
    "plt.figure(figsize=(10, 10))\n",
    "for label in cl_map.keys():\n",
    "    label_idx = cl_map[label]\n",
    "    pr[label], re[label], _ = precision_recall_curve(labels_, night_res_[:,label_idx], pos_label = label_idx)\n",
    "    #plt.plot(re[label], pr[label], lw=2, label='{}'.format(label))#age_precision_score(labels_, day_res_[:,label_idx], average='micro', pos_label=label_idx)))\n",
    "    #rec, rec, f = precision_recall_fscore_support(labels_, day_res_[:,label_idx], pos_label=label_idx)\n",
    "    #rint(label)\n",
    "   #print('cision:{}, recall:{}, f:{}'.format(prec, rec, f))\n",
    "#plt.legend()\n",
    "prec, rec, f, _ = precision_recall_fscore_support(labels_, np.argmax(night_res_, axis=1), average=None)\n",
    "for idx, l in enumerate(cl_map.keys()):\n",
    "    print('{}, {}, {}, {}'.format(l, prec[idx], rec[idx], f[idx]))"
   ]
  },
  {
   "cell_type": "code",
   "execution_count": null,
   "metadata": {},
   "outputs": [],
   "source": [
    "from itertools import cycle\n",
    "# setup plot details\n",
    "colors = cycle(['navy', 'turquoise', 'darkorange', 'cornflowerblue', 'teal'])\n",
    "\n",
    "plt.figure(figsize=(7, 8))\n",
    "f_scores = np.linspace(0.2, 0.8, num=4)\n",
    "lines = []\n",
    "labels = []\n",
    "for f_score in f_scores:\n",
    "    x = np.linspace(0.01, 1)\n",
    "    y = f_score * x / (2 * x - f_score)\n",
    "    l, = plt.plot(x[y >= 0], y[y >= 0], color='gray', alpha=0.2)\n",
    "    plt.annotate('f1={0:0.1f}'.format(f_score), xy=(0.9, y[45] + 0.02))\n",
    "\n",
    "lines.append(l)\n",
    "labels.append('iso-f1 curves')\n",
    "l, = plt.plot(recall[\"micro\"], precision[\"micro\"], color='gold', lw=2)\n",
    "lines.append(l)\n",
    "labels.append('micro-average Precision-recall (area = {0:0.2f})'\n",
    "              ''.format(average_precision[\"micro\"]))\n",
    "\n",
    "for i, color in zip(range(n_classes), colors):\n",
    "    l, = plt.plot(recall[i], precision[i], color=color, lw=2)\n",
    "    lines.append(l)\n",
    "    labels.append('Precision-recall for class {0} (area = {1:0.2f})'\n",
    "                  ''.format(i, average_precision[i]))\n",
    "\n",
    "fig = plt.gcf()\n",
    "fig.subplots_adjust(bottom=0.25)\n",
    "plt.xlim([0.0, 1.0])\n",
    "plt.ylim([0.0, 1.05])\n",
    "plt.xlabel('Recall')\n",
    "plt.ylabel('Precision')\n",
    "plt.title('Extension of Precision-Recall curve to multi-class')\n",
    "plt.legend(lines, labels, loc=(0, -.38), prop=dict(size=14))\n",
    "\n",
    "\n",
    "plt.show()"
   ]
  }
 ],
 "metadata": {
  "kernelspec": {
   "display_name": "Python 3",
   "language": "python",
   "name": "python3"
  },
  "language_info": {
   "codemirror_mode": {
    "name": "ipython",
    "version": 3
   },
   "file_extension": ".py",
   "mimetype": "text/x-python",
   "name": "python",
   "nbconvert_exporter": "python",
   "pygments_lexer": "ipython3",
   "version": "3.6.8"
  }
 },
 "nbformat": 4,
 "nbformat_minor": 4
}
